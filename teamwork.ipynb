{
 "cells": [
  {
   "cell_type": "code",
   "execution_count": 4,
   "metadata": {
    "collapsed": false
   },
   "outputs": [
    {
     "name": "stdout",
     "output_type": "stream",
     "text": [
      "請輸入金額:100\n",
      "12鍋\n"
     ]
    }
   ],
   "source": [
    "a=int(input(\"請輸入金額:\"))\n",
    "if a<=0:\n",
    "    print(\"你吃始吧你\")\n",
    "elif a<=300:\n",
    "    print(\"12鍋\")\n",
    "elif a<=750:\n",
    "    print(\"西堤\")\n",
    "elif a>=1000:\n",
    "    print(\"你吃什麼都可以\")"
   ]
  },
  {
   "cell_type": "code",
   "execution_count": null,
   "metadata": {
    "collapsed": true
   },
   "outputs": [],
   "source": []
  }
 ],
 "metadata": {
  "kernelspec": {
   "display_name": "Python 3",
   "language": "python",
   "name": "python3"
  },
  "language_info": {
   "codemirror_mode": {
    "name": "ipython",
    "version": 3
   },
   "file_extension": ".py",
   "mimetype": "text/x-python",
   "name": "python",
   "nbconvert_exporter": "python",
   "pygments_lexer": "ipython3",
   "version": "3.4.3"
  }
 },
 "nbformat": 4,
 "nbformat_minor": 0
}
