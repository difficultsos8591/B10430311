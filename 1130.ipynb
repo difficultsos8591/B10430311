{
 "cells": [
  {
   "cell_type": "code",
   "execution_count": 1,
   "metadata": {
    "collapsed": false
   },
   "outputs": [
    {
     "name": "stdout",
     "output_type": "stream",
     "text": [
      "abcdefghigklmnopqrstuvwxyz\n",
      "it is true\n",
      "tf\n",
      "input list:123\n"
     ]
    },
    {
     "data": {
      "text/plain": [
       "False"
      ]
     },
     "execution_count": 1,
     "metadata": {},
     "output_type": "execute_result"
    }
   ],
   "source": [
    "abc=\"\"\n",
    "abc+=\"abcdefg\" + \\\n",
    "    \"higklmnop\" + \\\n",
    "    \"qrstuv\" + \\\n",
    "    \"wxyz\"\n",
    "    \n",
    "print(abc)\n",
    "\n",
    "a=True\n",
    "if a:\n",
    "    print(\"it is true\")\n",
    "else:\n",
    "    print(\"it is false\")\n",
    "    \n",
    "\n",
    "    \n",
    "b=False\n",
    "if a:\n",
    "    if b:\n",
    "        print(\"tt\")\n",
    "    else:\n",
    "        print(\"tf\")\n",
    "else:\n",
    "    if b:\n",
    "        print(\"ft\")\n",
    "    else:\n",
    "        print(\"ff\")\n",
    "\n",
    "        \n",
    "c=list(input(\"input list:\")) #last problem \n",
    "len(set(c))!=len(c)"
   ]
  },
  {
   "cell_type": "code",
   "execution_count": 2,
   "metadata": {
    "collapsed": false
   },
   "outputs": [
    {
     "name": "stdout",
     "output_type": "stream",
     "text": [
      "color:123\n",
      "123\n"
     ]
    }
   ],
   "source": [
    "color=input(\"color:\")\n",
    "if color==\"a\":\n",
    "    print(\"a\")\n",
    "elif color==\"b\":\n",
    "    print(\"b\")\n",
    "else:\n",
    "    print(color)\n"
   ]
  },
  {
   "cell_type": "code",
   "execution_count": 3,
   "metadata": {
    "collapsed": false
   },
   "outputs": [
    {
     "name": "stdout",
     "output_type": "stream",
     "text": [
      "sorce:60\n",
      "pass\n"
     ]
    }
   ],
   "source": [
    "sorce=int(input(\"sorce:\"))\n",
    "if 0<=sorce<60:\n",
    "    print(\"fail\")\n",
    "elif 0<=sorce<=100:\n",
    "    print(\"pass\")\n",
    "else:\n",
    "    print(\"error\")"
   ]
  },
  {
   "cell_type": "code",
   "execution_count": 5,
   "metadata": {
    "collapsed": false
   },
   "outputs": [
    {
     "name": "stdout",
     "output_type": "stream",
     "text": [
      "input name:1\n",
      "no\n",
      "input name:阿丞\n"
     ]
    }
   ],
   "source": [
    "while True:\n",
    "    name=input(\"input name:\")\n",
    "    if name==\"李東丞\":\n",
    "        print(\"yes\")\n",
    "        break\n",
    "    elif name==\"阿丞\":\n",
    "        break\n",
    "    else:\n",
    "        print(\"no\")"
   ]
  },
  {
   "cell_type": "code",
   "execution_count": null,
   "metadata": {
    "collapsed": true
   },
   "outputs": [],
   "source": []
  }
 ],
 "metadata": {
  "kernelspec": {
   "display_name": "Python 3",
   "language": "python",
   "name": "python3"
  },
  "language_info": {
   "codemirror_mode": {
    "name": "ipython",
    "version": 3
   },
   "file_extension": ".py",
   "mimetype": "text/x-python",
   "name": "python",
   "nbconvert_exporter": "python",
   "pygments_lexer": "ipython3",
   "version": "3.4.3"
  }
 },
 "nbformat": 4,
 "nbformat_minor": 0
}
