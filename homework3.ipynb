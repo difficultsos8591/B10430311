{
 "cells": [
  {
   "cell_type": "code",
   "execution_count": 1,
   "metadata": {
    "collapsed": false
   },
   "outputs": [
    {
     "name": "stdout",
     "output_type": "stream",
     "text": [
      "1999\n",
      "2001\n"
     ]
    }
   ],
   "source": [
    "#ch3 homework \n",
    "years_list=[1997,1998,1999,2000,2001] #3.1\n",
    "print(years_list[2]) #3.2\n",
    "print(years_list[-1]) #3.3"
   ]
  },
  {
   "cell_type": "code",
   "execution_count": 1,
   "metadata": {
    "collapsed": false
   },
   "outputs": [
    {
     "name": "stdout",
     "output_type": "stream",
     "text": [
      "['mozzarella', 'Cin derella', 'salmonella']\n",
      "['Mozzarella', 'Cin derella', 'salmonella']\n",
      "['Mozzarella', 'Cin derella', 'Nobel Prize']\n"
     ]
    }
   ],
   "source": [
    "things=[\"mozzarella\",\"cin derella\",\"salmonella\"] #3.4\n",
    "things[1]=things[1].capitalize() #3.5\n",
    "print(things)\n",
    "things[0]=things[0].capitalize() #3.6\n",
    "print(things)\n",
    "del things[2] #3.7\n",
    "things.append(\"Nobel Prize\")\n",
    "print(things)"
   ]
  },
  {
   "cell_type": "code",
   "execution_count": 3,
   "metadata": {
    "collapsed": false
   },
   "outputs": [
    {
     "name": "stdout",
     "output_type": "stream",
     "text": [
      "Oprah\n"
     ]
    }
   ],
   "source": [
    "surprise=[\"Groucho\",\"Chico\",\"Harpo\"] #3.8\n",
    "x=surprise[-1].lower() #3.9 變小寫\n",
    "x=x[::-1] #反過來\n",
    "x=x.capitalize() #再將頭大寫\n",
    "surprise[-1]=x\n",
    "print(surprise[-1])"
   ]
  },
  {
   "cell_type": "code",
   "execution_count": 4,
   "metadata": {
    "collapsed": false
   },
   "outputs": [
    {
     "name": "stdout",
     "output_type": "stream",
     "text": [
      "morse\n"
     ]
    }
   ],
   "source": [
    "e2f={\"dog\":\"chien\",\"cat\":\"chat\",\"walrus\":\"morse\"} #3.10\n",
    "print(e2f[\"walrus\"]) #3.11"
   ]
  },
  {
   "cell_type": "code",
   "execution_count": 6,
   "metadata": {
    "collapsed": false
   },
   "outputs": [],
   "source": [
    "f2e={} #先一空來繼續加 3.12\n",
    "for hello in 0,1,2:\n",
    "    y={list(e2f.items())[hello][1]:list(e2f.items())[hello][0]} #將字串數對中交換（ex：(dog,chien)變成(chien,dog)\n",
    "    f2e.update(y)"
   ]
  },
  {
   "cell_type": "code",
   "execution_count": 8,
   "metadata": {
    "collapsed": false
   },
   "outputs": [
    {
     "name": "stdout",
     "output_type": "stream",
     "text": [
      "{'morse': 'walrus', 'chien': 'dog', 'chat': 'cat'}\n",
      "dog\n"
     ]
    }
   ],
   "source": [
    "print(f2e) #看看法英字典的結果\n",
    "print(f2e[\"chien\"]) #3.13"
   ]
  },
  {
   "cell_type": "code",
   "execution_count": 9,
   "metadata": {
    "collapsed": false
   },
   "outputs": [
    {
     "name": "stdout",
     "output_type": "stream",
     "text": [
      "{'morse', 'walrus', 'cat', 'chien', 'dog', 'chat'}\n"
     ]
    }
   ],
   "source": [
    "print(set(list(e2f.keys())+list(e2f.values()))) #將值和鍵全加在一起再用set合成集合 3.14"
   ]
  },
  {
   "cell_type": "code",
   "execution_count": 18,
   "metadata": {
    "collapsed": false
   },
   "outputs": [],
   "source": [
    "life={\"animals\":{\"cats\":[\"Henri\",\"Grumpy\",\"Lucy\"],\"octopi\":{},\"emus\":{}}, #3.15\n",
    "      \"plants\":{},\n",
    "      \"other\":{} }"
   ]
  },
  {
   "cell_type": "code",
   "execution_count": 23,
   "metadata": {
    "collapsed": false
   },
   "outputs": [
    {
     "name": "stdout",
     "output_type": "stream",
     "text": [
      "['other', 'animals', 'plants']\n",
      "['octopi', 'emus', 'cats']\n",
      "['Henri', 'Grumpy', 'Lucy']\n"
     ]
    }
   ],
   "source": [
    "print(list(life))  #3.16\n",
    "print(list(life[\"animals\"].keys()))   #3.17\n",
    "print(list(life[\"animals\"][\"cats\"])) #3.18"
   ]
  },
  {
   "cell_type": "code",
   "execution_count": null,
   "metadata": {
    "collapsed": true
   },
   "outputs": [],
   "source": []
  }
 ],
 "metadata": {
  "kernelspec": {
   "display_name": "Python 3",
   "language": "python",
   "name": "python3"
  },
  "language_info": {
   "codemirror_mode": {
    "name": "ipython",
    "version": 3
   },
   "file_extension": ".py",
   "mimetype": "text/x-python",
   "name": "python",
   "nbconvert_exporter": "python",
   "pygments_lexer": "ipython3",
   "version": "3.4.3"
  }
 },
 "nbformat": 4,
 "nbformat_minor": 0
}
